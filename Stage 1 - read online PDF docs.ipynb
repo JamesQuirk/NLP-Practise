{
 "cells": [
  {
   "cell_type": "markdown",
   "metadata": {},
   "source": [
    "# NLP Project - Stage 1\n",
    "\n",
    "## The ask\n",
    "\n",
    "Write a function that can take a URL as input and read the PDF document from there and save it to the local filesystem.\n",
    "\n",
    "## Programme Function\n",
    "\n",
    "This programme fetches a pdf file from a remote url, saves it locally and returns the text from the document as a list - collected by page."
   ]
  },
  {
   "cell_type": "code",
   "execution_count": 7,
   "metadata": {},
   "outputs": [],
   "source": [
    "# Import packages\n",
    "import urllib.request\n",
    "from io import BytesIO\n",
    "from pdfminer3.pdfinterp import PDFResourceManager, PDFPageInterpreter\n",
    "from pdfminer3.converter import TextConverter\n",
    "from pdfminer3.layout import LAParams\n",
    "from pdfminer3.pdfpage import PDFPage"
   ]
  },
  {
   "cell_type": "markdown",
   "metadata": {},
   "source": [
    "### Function Definition"
   ]
  },
  {
   "cell_type": "code",
   "execution_count": 4,
   "metadata": {},
   "outputs": [],
   "source": [
    "#PDF to text Function. \n",
    "def pdf_to_text(path):\n",
    "    manager = PDFResourceManager()\n",
    "    retstr = BytesIO()\n",
    "    layout = LAParams(all_texts=True)\n",
    "    device = TextConverter(manager, retstr, laparams=layout)\n",
    "    filepath = open(path, 'rb')\n",
    "    interpreter = PDFPageInterpreter(manager, device)\n",
    "    \n",
    "    text_list = []\n",
    "    for page in PDFPage.get_pages(filepath, check_extractable=True):\n",
    "        interpreter.process_page(page)\n",
    "        text_list.append(retstr.getvalue())\n",
    "\n",
    "    filepath.close()\n",
    "    device.close()\n",
    "    retstr.close()\n",
    "    return text_list"
   ]
  },
  {
   "cell_type": "code",
   "execution_count": 5,
   "metadata": {},
   "outputs": [],
   "source": [
    "# Fetch PDF from remote URL function\n",
    "def get_pdf_from_url(url,filename=None,print_text=False):\n",
    "    # Takes a URL and saves the data locally.\n",
    "    \n",
    "    if filename == None:\n",
    "        filename = url.split('/')[-1]\n",
    "    \n",
    "    webFile = urllib.request.urlopen(url)\n",
    "    with open(filename,'wb') as localFile:\n",
    "        contents = webFile.read()\n",
    "        localFile.write(contents)\n",
    "        \n",
    "    webFile.close()\n",
    "    \n",
    "    # get text from the pdf file\n",
    "    if print_text:\n",
    "        text = pdf_to_text(filename)\n",
    "        print(text)"
   ]
  },
  {
   "cell_type": "code",
   "execution_count": 6,
   "metadata": {},
   "outputs": [],
   "source": [
    "# url = 'https://www.w3.org/WAI/ER/tests/xhtml/testfiles/resources/pdf/dummy.pdf'\n",
    "url = 'http://www.africau.edu/images/default/sample.pdf'\n",
    "get_pdf_from_url(url)"
   ]
  },
  {
   "cell_type": "code",
   "execution_count": null,
   "metadata": {},
   "outputs": [],
   "source": []
  }
 ],
 "metadata": {
  "kernelspec": {
   "display_name": "Python 3",
   "language": "python",
   "name": "python3"
  },
  "language_info": {
   "codemirror_mode": {
    "name": "ipython",
    "version": 3
   },
   "file_extension": ".py",
   "mimetype": "text/x-python",
   "name": "python",
   "nbconvert_exporter": "python",
   "pygments_lexer": "ipython3",
   "version": "3.8.0"
  }
 },
 "nbformat": 4,
 "nbformat_minor": 4
}
